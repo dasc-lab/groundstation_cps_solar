{
 "cells": [
  {
   "cell_type": "code",
   "execution_count": 1,
   "id": "60ae7d15-3b62-41f5-a877-ab3686c92ac9",
   "metadata": {},
   "outputs": [],
   "source": [
    "import time \n",
    "from collections import namedtuple\n",
    "import numpy as np\n",
    "from dataclasses import dataclass"
   ]
  },
  {
   "cell_type": "code",
   "execution_count": 93,
   "id": "bf3b63fd-b698-4d5a-8962-9f69209909b7",
   "metadata": {},
   "outputs": [],
   "source": [
    "@dataclass\n",
    "class QuadObj:\n",
    "    quad_name: str  # Renamed from 'id' to avoid conflicts\n",
    "    flight_mode: str\n",
    "    remaining_flight_time: float\n",
    "    mission: bool\n",
    "    discharge_rate: float\n",
    "    visited_times: int\n",
    "    int_soc: float\n",
    "    charge_start_time: float\n",
    "    charge_pos: tuple[float, float, float]  # Assuming it's a position\n",
    "    cand_id:int"
   ]
  },
  {
   "cell_type": "code",
   "execution_count": 95,
   "id": "1ace1547-1bb3-471a-9bb2-c54877c8893e",
   "metadata": {},
   "outputs": [],
   "source": [
    "px4_100_charge_pos = np.array([2.525, 2.992, 0.880])\n",
    "px4_101_charge_pos = np.array([2.525, 2.992, 0.880])\n",
    "px4_102_charge_pos = np.array([2.525, 2.992, 0.880])\n",
    "\n",
    "px4_100_int_soc = 80.0\n",
    "px4_101_int_soc = 80.0\n",
    "px4_102_int_soc = 80.0\n",
    "\n",
    "px4_100_discharge_rate = 0.667\n",
    "px4_101_discharge_rate = 0.667\n",
    "px4_102_discharge_rate = 0.667\n",
    "\n",
    "## Create the quad objects\n",
    "quad_objects = [\n",
    "    QuadObj(\"px4_100\", \"Grounded\", 30.0, True, px4_100_discharge_rate, 0, px4_100_int_soc, 0.0, px4_100_charge_pos, 0),\n",
    "    # QuadObj(\"px4_101\", \"Grounded\", 30.0, False, px4_101_discharge_rate, 0, px4_101_int_soc, 0.0, px4_101_charge_pos),\n",
    "    # QuadObj(\"px4_102\", \"Grounded\", 20.0, True, px4_102_discharge_rate, 0, px4_102_int_soc, 0.0, px4_102_charge_pos)\n",
    "]\n",
    "\n"
   ]
  },
  {
   "cell_type": "code",
   "execution_count": 83,
   "id": "201f6aca-2ce2-4abd-a0ad-3594e7452d1a",
   "metadata": {},
   "outputs": [],
   "source": [
    "# Track which quads are in a mission\n",
    "curr_cand_id = 1\n",
    "active_quads = []  # Stores indices of quads that are in mission\n",
    "\n",
    "for i, quad in enumerate(quad_objects):\n",
    "    if quad.mission:\n",
    "        active_quads.append(i)  # Track the active quad indices"
   ]
  },
  {
   "cell_type": "code",
   "execution_count": 84,
   "id": "ece88fc4-86fc-4c1e-bb42-a9ebf8b08dbb",
   "metadata": {},
   "outputs": [
    {
     "data": {
      "text/plain": [
       "[0]"
      ]
     },
     "execution_count": 84,
     "metadata": {},
     "output_type": "execute_result"
    }
   ],
   "source": [
    "active_quads"
   ]
  },
  {
   "cell_type": "code",
   "execution_count": 85,
   "id": "59c19996-b9d6-4fa1-9a63-ff450467ebea",
   "metadata": {},
   "outputs": [],
   "source": [
    "# Sort the active quads based on remaining flight time\n",
    "gap_flags = []\n",
    "sorted_quad_data = [quad for i, quad in enumerate(quad_objects) if i in active_quads]\n",
    "sorted_quad_data = sorted(sorted_quad_data, key=lambda x: x.remaining_flight_time)"
   ]
  },
  {
   "cell_type": "code",
   "execution_count": 86,
   "id": "d0bc6358-a2ec-4cb1-9c26-bccdb03714e5",
   "metadata": {},
   "outputs": [
    {
     "data": {
      "text/plain": [
       "[QuadObj(quad_name='px4_100', flight_mode='Grounded', remaining_flight_time=30.0, mission=True, discharge_rate=0.667, visited_times=0, int_soc=80.0, charge_start_time=0.0, charge_pos=array([2.525, 2.992, 0.88 ]))]"
      ]
     },
     "execution_count": 86,
     "metadata": {},
     "output_type": "execute_result"
    }
   ],
   "source": [
    "sorted_quad_data"
   ]
  },
  {
   "cell_type": "code",
   "execution_count": 87,
   "id": "600dd45a-7e00-4d47-990a-20961009a480",
   "metadata": {},
   "outputs": [],
   "source": [
    "cand_traj_time = 10.0\n",
    "cand_replanning_time = 1.0\n",
    "req_gap = 10.0"
   ]
  },
  {
   "cell_type": "code",
   "execution_count": 88,
   "id": "32ece682-ef28-457a-a90a-4e541b554064",
   "metadata": {},
   "outputs": [],
   "source": [
    "# Compute the gap flags\n",
    "for i in range(len(sorted_quad_data)-1, 0, -1):\n",
    "    gap_distance_i = sorted_quad_data[i].remaining_flight_time - (cand_traj_time + cand_replanning_time)\n",
    "    gap_flag_i = gap_distance_i > ((i * req_gap))\n",
    "    gap_flags.append(gap_flag_i)"
   ]
  },
  {
   "cell_type": "code",
   "execution_count": 89,
   "id": "1abf9ddc-fad1-4513-a7e0-d0a9c6b86c65",
   "metadata": {},
   "outputs": [
    {
     "data": {
      "text/plain": [
       "False"
      ]
     },
     "execution_count": 89,
     "metadata": {},
     "output_type": "execute_result"
    }
   ],
   "source": [
    "# Check if there is any gap violation\n",
    "gap_violation = False in gap_flags\n",
    "gap_violation"
   ]
  },
  {
   "cell_type": "code",
   "execution_count": 90,
   "id": "58e83220-aed2-4413-b1f2-b591f3dfdafd",
   "metadata": {},
   "outputs": [
    {
     "name": "stdout",
     "output_type": "stream",
     "text": [
      "Commiting for 0\n"
     ]
    }
   ],
   "source": [
    "# Handle gap flag failure or success\n",
    "if gap_violation:\n",
    "    # Get the name of the returning quad\n",
    "    returning_quad_name = sorted_quad_data[0].quad_name\n",
    "\n",
    "    # Iterate over the publisher array to publish responses\n",
    "    for i, entry in enumerate(sorted_quad_data):\n",
    "\n",
    "        # Set commit_cand_traj to False for the returning quad, True for the others\n",
    "        commit_cand_traj = (entry.quad_name != returning_quad_name)\n",
    "        print(\"quad_name\", entry.quad_name)\n",
    "        print(\"commit_cand_traj\", commit_cand_traj)\n",
    "        print(\"for\", i)\n",
    "else:\n",
    "    for i in range(len(quad_objects)):\n",
    "        print(\"Commiting for\", i)"
   ]
  },
  {
   "cell_type": "code",
   "execution_count": 92,
   "id": "8c13973c-44a4-4638-a685-3f40b2b51ce2",
   "metadata": {},
   "outputs": [
    {
     "ename": "AttributeError",
     "evalue": "'QuadObj' object has no attribute 'cand_id'",
     "output_type": "error",
     "traceback": [
      "\u001b[0;31m---------------------------------------------------------------------------\u001b[0m",
      "\u001b[0;31mAttributeError\u001b[0m                            Traceback (most recent call last)",
      "Cell \u001b[0;32mIn[92], line 1\u001b[0m\n\u001b[0;32m----> 1\u001b[0m \u001b[38;5;28mall\u001b[39m(quad_objects[i]\u001b[38;5;241m.\u001b[39mcand_id \u001b[38;5;241m==\u001b[39m cand_id \u001b[38;5;28;01mfor\u001b[39;00m i \u001b[38;5;129;01min\u001b[39;00m active_quads)\n",
      "Cell \u001b[0;32mIn[92], line 1\u001b[0m, in \u001b[0;36m<genexpr>\u001b[0;34m(.0)\u001b[0m\n\u001b[0;32m----> 1\u001b[0m \u001b[38;5;28mall\u001b[39m(quad_objects[i]\u001b[38;5;241m.\u001b[39mcand_id \u001b[38;5;241m==\u001b[39m cand_id \u001b[38;5;28;01mfor\u001b[39;00m i \u001b[38;5;129;01min\u001b[39;00m active_quads)\n",
      "\u001b[0;31mAttributeError\u001b[0m: 'QuadObj' object has no attribute 'cand_id'"
     ]
    }
   ],
   "source": [
    "all(quad_objects[i].cand_id == cand_id for i in active_quads)"
   ]
  },
  {
   "cell_type": "code",
   "execution_count": null,
   "id": "7949a41b-3907-4f06-a9eb-c450bd9f8749",
   "metadata": {},
   "outputs": [],
   "source": []
  }
 ],
 "metadata": {
  "kernelspec": {
   "display_name": "Python 3 (ipykernel)",
   "language": "python",
   "name": "python3"
  },
  "language_info": {
   "codemirror_mode": {
    "name": "ipython",
    "version": 3
   },
   "file_extension": ".py",
   "mimetype": "text/x-python",
   "name": "python",
   "nbconvert_exporter": "python",
   "pygments_lexer": "ipython3",
   "version": "3.12.2"
  }
 },
 "nbformat": 4,
 "nbformat_minor": 5
}
